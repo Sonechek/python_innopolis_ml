{
  "cells": [
    {
      "cell_type": "markdown",
      "metadata": {
        "id": "jZOR9Y3YtJd6"
      },
      "source": [
        "<font color='green' size='6'>**Практическая работа 2**</font>  \n",
        "<font color='#11a642' size='5'>**Тема: Машинное обучение**</font>  \n",
        "<font size='5'>**Задание:**</font>  \n",
        "\n",
        "Домашняя работа основана на данных конкурса https://www.kaggle.com/competitions/playground-series-s4e10/\n",
        "\n",
        "**Ваша задача** — предсказать, останется ли клиент с аккаунтом или закроет его (например, уйдёт).\n",
        "\n",
        "Требования к оформлению:\n",
        "- Работа должна быть оформлена в jupyter notebook (файл *.ipynb)\n",
        "- Работа должна содержать комментарии и выводы. Объясняйте почему вы выбрали именно этот способ обработки данных\n",
        "\n",
        "\n",
        "Всем удачи!\n",
        "\n",
        "\n",
        "\n"
      ]
    },
    {
      "cell_type": "markdown",
      "metadata": {
        "id": "zSuKyjSxvt0D"
      },
      "source": [
        "# <font color='#11a642' size='6'> **Импорт и установка библиотек**"
      ]
    },
    {
      "cell_type": "code",
      "execution_count": 1,
      "metadata": {
        "id": "3a9Myq9OFN0s"
      },
      "outputs": [],
      "source": [
        "import pandas as pd\n",
        "import numpy as np\n",
        "import matplotlib.pyplot as plt\n",
        "import seaborn as sns\n",
        "from sklearn.model_selection import train_test_split\n",
        "from sklearn.preprocessing import StandardScaler, OneHotEncoder\n",
        "from sklearn.compose import ColumnTransformer\n",
        "from sklearn.pipeline import Pipeline\n",
        "from sklearn.linear_model import LogisticRegression\n",
        "from sklearn.metrics import classification_report, confusion_matrix, roc_auc_score, accuracy_score\n",
        "from sklearn.impute import SimpleImputer"
      ]
    },
    {
      "cell_type": "markdown",
      "metadata": {
        "id": "MPOq6MYFFayE"
      },
      "source": [
        "# <font color='#11a642' size='6'> **Загрузка данных**"
      ]
    },
    {
      "cell_type": "code",
      "execution_count": 2,
      "metadata": {
        "colab": {
          "base_uri": "https://localhost:8080/"
        },
        "id": "2ULMdLROCJnJ",
        "outputId": "26e2f77f-2968-4f1e-f38c-6fb6f6d9e0d9"
      },
      "outputs": [
        {
          "name": "stderr",
          "output_type": "stream",
          "text": [
            "Downloading...\n",
            "From: https://drive.google.com/uc?id=1wvqGslWLauKyZxLY-d3RQCTyHCb5wJCO\n",
            "To: c:\\Users\\alexander\\Desktop\\python_innopolis_ml\\part_2\\practice_work\\train.csv\n",
            "\n",
            "  0%|          | 0.00/12.4M [00:00<?, ?B/s]\n",
            "  4%|▍         | 524k/12.4M [00:00<00:05, 2.30MB/s]\n",
            " 17%|█▋        | 2.10M/12.4M [00:00<00:01, 7.44MB/s]\n",
            " 72%|███████▏  | 8.91M/12.4M [00:00<00:00, 19.7MB/s]\n",
            " 89%|████████▉ | 11.0M/12.4M [00:00<00:00, 16.5MB/s]\n",
            "100%|██████████| 12.4M/12.4M [00:00<00:00, 16.3MB/s]\n"
          ]
        }
      ],
      "source": [
        "# 1. Загрузка датасета\n",
        "!gdown 1wvqGslWLauKyZxLY-d3RQCTyHCb5wJCO"
      ]
    },
    {
      "cell_type": "code",
      "execution_count": 3,
      "metadata": {
        "id": "44_n6F8HUL_q"
      },
      "outputs": [],
      "source": [
        "try:\n",
        "  df = pd.read_csv('/train.csv')\n",
        "except:\n",
        "  df = pd.read_csv('train.csv')"
      ]
    },
    {
      "cell_type": "code",
      "execution_count": 4,
      "metadata": {
        "colab": {
          "base_uri": "https://localhost:8080/",
          "height": 226
        },
        "id": "uDCXN9-3UPJh",
        "outputId": "ee273a76-13f6-4c0f-8073-d469028d41f2"
      },
      "outputs": [
        {
          "data": {
            "text/html": [
              "<div>\n",
              "<style scoped>\n",
              "    .dataframe tbody tr th:only-of-type {\n",
              "        vertical-align: middle;\n",
              "    }\n",
              "\n",
              "    .dataframe tbody tr th {\n",
              "        vertical-align: top;\n",
              "    }\n",
              "\n",
              "    .dataframe thead th {\n",
              "        text-align: right;\n",
              "    }\n",
              "</style>\n",
              "<table border=\"1\" class=\"dataframe\">\n",
              "  <thead>\n",
              "    <tr style=\"text-align: right;\">\n",
              "      <th></th>\n",
              "      <th>id</th>\n",
              "      <th>CustomerId</th>\n",
              "      <th>Surname</th>\n",
              "      <th>CreditScore</th>\n",
              "      <th>Geography</th>\n",
              "      <th>Gender</th>\n",
              "      <th>Age</th>\n",
              "      <th>Tenure</th>\n",
              "      <th>Balance</th>\n",
              "      <th>NumOfProducts</th>\n",
              "      <th>HasCrCard</th>\n",
              "      <th>IsActiveMember</th>\n",
              "      <th>EstimatedSalary</th>\n",
              "      <th>Exited</th>\n",
              "    </tr>\n",
              "  </thead>\n",
              "  <tbody>\n",
              "    <tr>\n",
              "      <th>0</th>\n",
              "      <td>0</td>\n",
              "      <td>15674932</td>\n",
              "      <td>Okwudilichukwu</td>\n",
              "      <td>668</td>\n",
              "      <td>France</td>\n",
              "      <td>Male</td>\n",
              "      <td>33.0</td>\n",
              "      <td>3</td>\n",
              "      <td>0.00</td>\n",
              "      <td>2</td>\n",
              "      <td>1.0</td>\n",
              "      <td>0.0</td>\n",
              "      <td>181449.97</td>\n",
              "      <td>0</td>\n",
              "    </tr>\n",
              "    <tr>\n",
              "      <th>1</th>\n",
              "      <td>1</td>\n",
              "      <td>15749177</td>\n",
              "      <td>Okwudiliolisa</td>\n",
              "      <td>627</td>\n",
              "      <td>France</td>\n",
              "      <td>Male</td>\n",
              "      <td>33.0</td>\n",
              "      <td>1</td>\n",
              "      <td>0.00</td>\n",
              "      <td>2</td>\n",
              "      <td>1.0</td>\n",
              "      <td>1.0</td>\n",
              "      <td>49503.50</td>\n",
              "      <td>0</td>\n",
              "    </tr>\n",
              "    <tr>\n",
              "      <th>2</th>\n",
              "      <td>2</td>\n",
              "      <td>15694510</td>\n",
              "      <td>Hsueh</td>\n",
              "      <td>678</td>\n",
              "      <td>France</td>\n",
              "      <td>Male</td>\n",
              "      <td>40.0</td>\n",
              "      <td>10</td>\n",
              "      <td>0.00</td>\n",
              "      <td>2</td>\n",
              "      <td>1.0</td>\n",
              "      <td>0.0</td>\n",
              "      <td>184866.69</td>\n",
              "      <td>0</td>\n",
              "    </tr>\n",
              "    <tr>\n",
              "      <th>3</th>\n",
              "      <td>3</td>\n",
              "      <td>15741417</td>\n",
              "      <td>Kao</td>\n",
              "      <td>581</td>\n",
              "      <td>France</td>\n",
              "      <td>Male</td>\n",
              "      <td>34.0</td>\n",
              "      <td>2</td>\n",
              "      <td>148882.54</td>\n",
              "      <td>1</td>\n",
              "      <td>1.0</td>\n",
              "      <td>1.0</td>\n",
              "      <td>84560.88</td>\n",
              "      <td>0</td>\n",
              "    </tr>\n",
              "    <tr>\n",
              "      <th>4</th>\n",
              "      <td>4</td>\n",
              "      <td>15766172</td>\n",
              "      <td>Chiemenam</td>\n",
              "      <td>716</td>\n",
              "      <td>Spain</td>\n",
              "      <td>Male</td>\n",
              "      <td>33.0</td>\n",
              "      <td>5</td>\n",
              "      <td>0.00</td>\n",
              "      <td>2</td>\n",
              "      <td>1.0</td>\n",
              "      <td>1.0</td>\n",
              "      <td>15068.83</td>\n",
              "      <td>0</td>\n",
              "    </tr>\n",
              "  </tbody>\n",
              "</table>\n",
              "</div>"
            ],
            "text/plain": [
              "   id  CustomerId         Surname  CreditScore Geography Gender   Age  Tenure  \\\n",
              "0   0    15674932  Okwudilichukwu          668    France   Male  33.0       3   \n",
              "1   1    15749177   Okwudiliolisa          627    France   Male  33.0       1   \n",
              "2   2    15694510           Hsueh          678    France   Male  40.0      10   \n",
              "3   3    15741417             Kao          581    France   Male  34.0       2   \n",
              "4   4    15766172       Chiemenam          716     Spain   Male  33.0       5   \n",
              "\n",
              "     Balance  NumOfProducts  HasCrCard  IsActiveMember  EstimatedSalary  \\\n",
              "0       0.00              2        1.0             0.0        181449.97   \n",
              "1       0.00              2        1.0             1.0         49503.50   \n",
              "2       0.00              2        1.0             0.0        184866.69   \n",
              "3  148882.54              1        1.0             1.0         84560.88   \n",
              "4       0.00              2        1.0             1.0         15068.83   \n",
              "\n",
              "   Exited  \n",
              "0       0  \n",
              "1       0  \n",
              "2       0  \n",
              "3       0  \n",
              "4       0  "
            ]
          },
          "execution_count": 4,
          "metadata": {},
          "output_type": "execute_result"
        }
      ],
      "source": [
        "df.head()"
      ]
    },
    {
      "cell_type": "code",
      "execution_count": 5,
      "metadata": {
        "id": "dXltTmQ_UJBV"
      },
      "outputs": [],
      "source": [
        "# 2. Разделение признаков и целевой переменной\n",
        "X = df.drop('Exited', axis=1)\n",
        "y = df['Exited']"
      ]
    },
    {
      "cell_type": "code",
      "execution_count": 6,
      "metadata": {
        "colab": {
          "base_uri": "https://localhost:8080/",
          "height": 241
        },
        "id": "iAyFiPpQFS6u",
        "outputId": "1fb8c57a-dab9-437e-9216-f9449742c5a4"
      },
      "outputs": [
        {
          "data": {
            "text/plain": [
              "0    0\n",
              "1    0\n",
              "2    0\n",
              "3    0\n",
              "4    0\n",
              "Name: Exited, dtype: int64"
            ]
          },
          "execution_count": 6,
          "metadata": {},
          "output_type": "execute_result"
        }
      ],
      "source": [
        "y.head()"
      ]
    },
    {
      "cell_type": "markdown",
      "metadata": {
        "id": "Qdjat-1tFuto"
      },
      "source": [
        "## <font color='#11a642' size='5'> Напишите ответы на следующие вопросы: </font>\n",
        "\n",
        "\n",
        "1.   К какому типу переменных относится целевой признак?\n",
        "2.   Какую задачу машинного обучения вам предстоит решить, регрессия или классификация?"
      ]
    },
    {
      "cell_type": "markdown",
      "metadata": {
        "id": "s6wq-gKqHfT7"
      },
      "source": [
        "# ваш ответ"
      ]
    },
    {
      "cell_type": "markdown",
      "metadata": {
        "id": "j0mQVQAG4Hvb"
      },
      "source": [
        "# <font color='#11a642' size='6'> **Разведочный анализ данных**"
      ]
    },
    {
      "cell_type": "markdown",
      "metadata": {
        "id": "3sj3k-rB4L0J"
      },
      "source": [
        "## <font color='#11a642' size='5'> Оцените размер вашего датасета  </font>\n",
        "\n",
        "\n",
        "\n",
        "1.   Сколько ГБ ваш датасет\n",
        "2.   Сколько строк и столбцов\n",
        "\n"
      ]
    },
    {
      "cell_type": "code",
      "execution_count": 7,
      "metadata": {
        "id": "yU6WkgQ7u6-z"
      },
      "outputs": [
        {
          "name": "stdout",
          "output_type": "stream",
          "text": [
            "Размер датасета: 0.0388 ГБ\n"
          ]
        }
      ],
      "source": [
        "# Сколько ГБ ваш датасет\n",
        "# ваш код\n",
        "dataset_size_gb = df.memory_usage(deep=True).sum() / (1024**3)\n",
        "print(f\"Размер датасета: {dataset_size_gb:.4f} ГБ\")\n"
      ]
    },
    {
      "cell_type": "code",
      "execution_count": 8,
      "metadata": {
        "id": "JG6g0Gfa57EZ"
      },
      "outputs": [
        {
          "name": "stdout",
          "output_type": "stream",
          "text": [
            "Количество строк: 165034\n",
            "Количество столбцов: 14\n"
          ]
        }
      ],
      "source": [
        "# Сколько строк и столбцов\n",
        "# ваш код\n",
        "print(f\"Количество строк: {df.shape[0]}\")\n",
        "print(f\"Количество столбцов: {df.shape[1]}\")"
      ]
    },
    {
      "cell_type": "markdown",
      "metadata": {
        "id": "92Mhtpl3ePaj"
      },
      "source": [
        "## <font color='#11a642' size='5'> Анализ числовых (непрерывных) признаков\n"
      ]
    },
    {
      "cell_type": "markdown",
      "metadata": {
        "id": "uM8pFd48OB9e"
      },
      "source": [
        "- для каждого признака посчитайте минимум, максимум, среднее, медиану"
      ]
    },
    {
      "cell_type": "code",
      "execution_count": 9,
      "metadata": {
        "id": "xcfXdchyeV77"
      },
      "outputs": [
        {
          "data": {
            "text/html": [
              "<div>\n",
              "<style scoped>\n",
              "    .dataframe tbody tr th:only-of-type {\n",
              "        vertical-align: middle;\n",
              "    }\n",
              "\n",
              "    .dataframe tbody tr th {\n",
              "        vertical-align: top;\n",
              "    }\n",
              "\n",
              "    .dataframe thead th {\n",
              "        text-align: right;\n",
              "    }\n",
              "</style>\n",
              "<table border=\"1\" class=\"dataframe\">\n",
              "  <thead>\n",
              "    <tr style=\"text-align: right;\">\n",
              "      <th></th>\n",
              "      <th>count</th>\n",
              "      <th>mean</th>\n",
              "      <th>std</th>\n",
              "      <th>min</th>\n",
              "      <th>25%</th>\n",
              "      <th>50%</th>\n",
              "      <th>75%</th>\n",
              "      <th>max</th>\n",
              "    </tr>\n",
              "  </thead>\n",
              "  <tbody>\n",
              "    <tr>\n",
              "      <th>id</th>\n",
              "      <td>165034.0</td>\n",
              "      <td>8.251650e+04</td>\n",
              "      <td>47641.356500</td>\n",
              "      <td>0.00</td>\n",
              "      <td>41258.25</td>\n",
              "      <td>82516.5</td>\n",
              "      <td>1.237748e+05</td>\n",
              "      <td>165033.00</td>\n",
              "    </tr>\n",
              "    <tr>\n",
              "      <th>CustomerId</th>\n",
              "      <td>165034.0</td>\n",
              "      <td>1.569201e+07</td>\n",
              "      <td>71397.816791</td>\n",
              "      <td>15565701.00</td>\n",
              "      <td>15633141.00</td>\n",
              "      <td>15690169.0</td>\n",
              "      <td>1.575682e+07</td>\n",
              "      <td>15815690.00</td>\n",
              "    </tr>\n",
              "    <tr>\n",
              "      <th>CreditScore</th>\n",
              "      <td>165034.0</td>\n",
              "      <td>6.564544e+02</td>\n",
              "      <td>80.103340</td>\n",
              "      <td>350.00</td>\n",
              "      <td>597.00</td>\n",
              "      <td>659.0</td>\n",
              "      <td>7.100000e+02</td>\n",
              "      <td>850.00</td>\n",
              "    </tr>\n",
              "    <tr>\n",
              "      <th>Age</th>\n",
              "      <td>165034.0</td>\n",
              "      <td>3.812589e+01</td>\n",
              "      <td>8.867205</td>\n",
              "      <td>18.00</td>\n",
              "      <td>32.00</td>\n",
              "      <td>37.0</td>\n",
              "      <td>4.200000e+01</td>\n",
              "      <td>92.00</td>\n",
              "    </tr>\n",
              "    <tr>\n",
              "      <th>Tenure</th>\n",
              "      <td>165034.0</td>\n",
              "      <td>5.020353e+00</td>\n",
              "      <td>2.806159</td>\n",
              "      <td>0.00</td>\n",
              "      <td>3.00</td>\n",
              "      <td>5.0</td>\n",
              "      <td>7.000000e+00</td>\n",
              "      <td>10.00</td>\n",
              "    </tr>\n",
              "    <tr>\n",
              "      <th>Balance</th>\n",
              "      <td>165034.0</td>\n",
              "      <td>5.547809e+04</td>\n",
              "      <td>62817.663278</td>\n",
              "      <td>0.00</td>\n",
              "      <td>0.00</td>\n",
              "      <td>0.0</td>\n",
              "      <td>1.199395e+05</td>\n",
              "      <td>250898.09</td>\n",
              "    </tr>\n",
              "    <tr>\n",
              "      <th>NumOfProducts</th>\n",
              "      <td>165034.0</td>\n",
              "      <td>1.554455e+00</td>\n",
              "      <td>0.547154</td>\n",
              "      <td>1.00</td>\n",
              "      <td>1.00</td>\n",
              "      <td>2.0</td>\n",
              "      <td>2.000000e+00</td>\n",
              "      <td>4.00</td>\n",
              "    </tr>\n",
              "    <tr>\n",
              "      <th>HasCrCard</th>\n",
              "      <td>165034.0</td>\n",
              "      <td>7.539537e-01</td>\n",
              "      <td>0.430707</td>\n",
              "      <td>0.00</td>\n",
              "      <td>1.00</td>\n",
              "      <td>1.0</td>\n",
              "      <td>1.000000e+00</td>\n",
              "      <td>1.00</td>\n",
              "    </tr>\n",
              "    <tr>\n",
              "      <th>IsActiveMember</th>\n",
              "      <td>165034.0</td>\n",
              "      <td>4.977702e-01</td>\n",
              "      <td>0.499997</td>\n",
              "      <td>0.00</td>\n",
              "      <td>0.00</td>\n",
              "      <td>0.0</td>\n",
              "      <td>1.000000e+00</td>\n",
              "      <td>1.00</td>\n",
              "    </tr>\n",
              "    <tr>\n",
              "      <th>EstimatedSalary</th>\n",
              "      <td>165034.0</td>\n",
              "      <td>1.125748e+05</td>\n",
              "      <td>50292.865585</td>\n",
              "      <td>11.58</td>\n",
              "      <td>74637.57</td>\n",
              "      <td>117948.0</td>\n",
              "      <td>1.551525e+05</td>\n",
              "      <td>199992.48</td>\n",
              "    </tr>\n",
              "  </tbody>\n",
              "</table>\n",
              "</div>"
            ],
            "text/plain": [
              "                    count          mean           std          min  \\\n",
              "id               165034.0  8.251650e+04  47641.356500         0.00   \n",
              "CustomerId       165034.0  1.569201e+07  71397.816791  15565701.00   \n",
              "CreditScore      165034.0  6.564544e+02     80.103340       350.00   \n",
              "Age              165034.0  3.812589e+01      8.867205        18.00   \n",
              "Tenure           165034.0  5.020353e+00      2.806159         0.00   \n",
              "Balance          165034.0  5.547809e+04  62817.663278         0.00   \n",
              "NumOfProducts    165034.0  1.554455e+00      0.547154         1.00   \n",
              "HasCrCard        165034.0  7.539537e-01      0.430707         0.00   \n",
              "IsActiveMember   165034.0  4.977702e-01      0.499997         0.00   \n",
              "EstimatedSalary  165034.0  1.125748e+05  50292.865585        11.58   \n",
              "\n",
              "                         25%         50%           75%          max  \n",
              "id                  41258.25     82516.5  1.237748e+05    165033.00  \n",
              "CustomerId       15633141.00  15690169.0  1.575682e+07  15815690.00  \n",
              "CreditScore           597.00       659.0  7.100000e+02       850.00  \n",
              "Age                    32.00        37.0  4.200000e+01        92.00  \n",
              "Tenure                  3.00         5.0  7.000000e+00        10.00  \n",
              "Balance                 0.00         0.0  1.199395e+05    250898.09  \n",
              "NumOfProducts           1.00         2.0  2.000000e+00         4.00  \n",
              "HasCrCard               1.00         1.0  1.000000e+00         1.00  \n",
              "IsActiveMember          0.00         0.0  1.000000e+00         1.00  \n",
              "EstimatedSalary     74637.57    117948.0  1.551525e+05    199992.48  "
            ]
          },
          "execution_count": 9,
          "metadata": {},
          "output_type": "execute_result"
        }
      ],
      "source": [
        "# ваш код\n",
        "# Описательные статистики для числовых признаков\n",
        "numeric_cols = df.select_dtypes(include=['int64', 'float64']).columns.drop('Exited')\n",
        "df[numeric_cols].describe().T"
      ]
    },
    {
      "cell_type": "markdown",
      "metadata": {
        "id": "yZ0NhzDjG5o5"
      },
      "source": [
        "## <font color='#11a642' size='5'> Анализ категориальных признаков\n"
      ]
    },
    {
      "cell_type": "markdown",
      "metadata": {
        "id": "uJsvcd_wG9oq"
      },
      "source": [
        "- для каждого признака посчитайте моду, количество уникальных значений"
      ]
    },
    {
      "cell_type": "code",
      "execution_count": 10,
      "metadata": {
        "id": "Tc0os3UHHaKh"
      },
      "outputs": [
        {
          "name": "stdout",
          "output_type": "stream",
          "text": [
            "\n",
            "Признак: Surname\n",
            "Количество уникальных значений: 2797\n",
            "Мода: Hsia\n",
            "Surname\n",
            "Hsia        2456\n",
            "T'ien       2282\n",
            "Hs?         1611\n",
            "Maclean     1577\n",
            "Kao         1577\n",
            "            ... \n",
            "Stelzer        1\n",
            "Zubareva       1\n",
            "Elkins         1\n",
            "Mitchel        1\n",
            "Rouse          1\n",
            "Name: count, Length: 2797, dtype: int64\n",
            "\n",
            "Признак: Geography\n",
            "Количество уникальных значений: 3\n",
            "Мода: France\n",
            "Geography\n",
            "France     94215\n",
            "Spain      36213\n",
            "Germany    34606\n",
            "Name: count, dtype: int64\n",
            "\n",
            "Признак: Gender\n",
            "Количество уникальных значений: 2\n",
            "Мода: Male\n",
            "Gender\n",
            "Male      93150\n",
            "Female    71884\n",
            "Name: count, dtype: int64\n"
          ]
        }
      ],
      "source": [
        "# ваш код\n",
        "# Анализ категориальных признаков\n",
        "categorical_cols = df.select_dtypes(include=['object']).columns\n",
        "\n",
        "for col in categorical_cols:\n",
        "    print(f\"\\nПризнак: {col}\")\n",
        "    print(f\"Количество уникальных значений: {df[col].nunique()}\")\n",
        "    print(f\"Мода: {df[col].mode()[0]}\")\n",
        "    print(df[col].value_counts())"
      ]
    },
    {
      "cell_type": "markdown",
      "metadata": {
        "id": "wpGzRSwnHNeK"
      },
      "source": [
        "## <font color='#11a642' size='5'> Анализ целевого признака\n"
      ]
    },
    {
      "cell_type": "markdown",
      "metadata": {
        "id": "C9AmTgf1HQ4d"
      },
      "source": [
        "- какая доля 1?"
      ]
    },
    {
      "cell_type": "code",
      "execution_count": 11,
      "metadata": {
        "id": "Rs6ds9UpHa4o"
      },
      "outputs": [
        {
          "name": "stdout",
          "output_type": "stream",
          "text": [
            "Доля клиентов, которые ушли: 21.16%\n"
          ]
        },
        {
          "data": {
            "image/png": "[encoded data removed]",
            "text/plain": [
              "<Figure size 600x400 with 1 Axes>"
            ]
          },
          "metadata": {},
          "output_type": "display_data"
        }
      ],
      "source": [
        "# ваш код\n",
        "# Доля 1 в целевом признаке\n",
        "print(f\"Доля клиентов, которые ушли: {y.mean():.2%}\")\n",
        "\n",
        "# Визуализация распределения\n",
        "plt.figure(figsize=(6, 4))\n",
        "sns.countplot(x=y)\n",
        "plt.title('Распределение целевой переменной')\n",
        "plt.show()"
      ]
    },
    {
      "cell_type": "markdown",
      "metadata": {
        "id": "cd-lxD1y6v0Q"
      },
      "source": [
        "# <font color='#11a642' size='6'> **Разделите данные на трейн и тест**"
      ]
    },
    {
      "cell_type": "markdown",
      "metadata": {
        "id": "YY4iOIXUHpEB"
      },
      "source": [
        "- нужна ли стратификация?"
      ]
    },
    {
      "cell_type": "code",
      "execution_count": 12,
      "metadata": {
        "id": "3fHwY-2J7PXr"
      },
      "outputs": [],
      "source": [
        "# ваш код\n",
        "# Разделение данных с стратификацией, так как классы несбалансированы\n",
        "X_train, X_test, y_train, y_test = train_test_split(\n",
        "    X, y, test_size=0.2, random_state=42, stratify=y\n",
        ")"
      ]
    },
    {
      "cell_type": "markdown",
      "metadata": {
        "id": "bvhVO_Sl7RH3"
      },
      "source": [
        "# <font color='#11a642' size='6'> **Подготовка данных к обучению**"
      ]
    },
    {
      "cell_type": "markdown",
      "metadata": {
        "id": "mRsDEezEImPB"
      },
      "source": [
        "## Поиск и анализ выбросов"
      ]
    },
    {
      "cell_type": "code",
      "execution_count": 13,
      "metadata": {
        "id": "M_pqEovt7WMc"
      },
      "outputs": [
        {
          "data": {
            "image/png": "[encoded data removed]",
            "text/plain": [
              "<Figure size 1500x2000 with 10 Axes>"
            ]
          },
          "metadata": {},
          "output_type": "display_data"
        }
      ],
      "source": [
        "# ваш код\n",
        "# Визуализация выбросов для числовых признаков\n",
        "# Фиксируем 3 колонки\n",
        "n_cols = 3  \n",
        "# Округление вверх\n",
        "n_rows = len(numeric_cols) // n_cols + (1 if len(numeric_cols) % n_cols != 0 else 0)\n",
        "\n",
        "# Создание фигуры с динамическим размером\n",
        "plt.figure(figsize=(15, 5*n_rows))\n",
        "\n",
        "# Построение boxplot для каждого числового признака\n",
        "for i, col in enumerate(numeric_cols, 1):\n",
        "    plt.subplot(n_rows, n_cols, i)\n",
        "    sns.boxplot(x=df[col])\n",
        "    plt.title(f'Boxplot: {col}')\n",
        "    \n",
        "plt.tight_layout()\n",
        "plt.show()"
      ]
    },
    {
      "cell_type": "markdown",
      "metadata": {
        "id": "rcravyNzIoQq"
      },
      "source": [
        "## Анализ и обработка пропусков"
      ]
    },
    {
      "cell_type": "code",
      "execution_count": 14,
      "metadata": {
        "id": "bB5HzScsIuIR"
      },
      "outputs": [
        {
          "name": "stdout",
          "output_type": "stream",
          "text": [
            "Количество пропусков по столбцам:\n",
            "id                 0\n",
            "CustomerId         0\n",
            "Surname            0\n",
            "CreditScore        0\n",
            "Geography          0\n",
            "Gender             0\n",
            "Age                0\n",
            "Tenure             0\n",
            "Balance            0\n",
            "NumOfProducts      0\n",
            "HasCrCard          0\n",
            "IsActiveMember     0\n",
            "EstimatedSalary    0\n",
            "Exited             0\n",
            "dtype: int64\n"
          ]
        }
      ],
      "source": [
        "# ваш код\n",
        "# Проверка на пропуски\n",
        "# Пропусков нет - обработка не требуется\n",
        "print(\"Количество пропусков по столбцам:\")\n",
        "print(df.isnull().sum())"
      ]
    },
    {
      "cell_type": "markdown",
      "metadata": {
        "id": "8EaAsLzQIuRl"
      },
      "source": [
        "## Анализ и обработка категориальных переменных"
      ]
    },
    {
      "cell_type": "code",
      "execution_count": 15,
      "metadata": {
        "id": "rgggaunJI0ty"
      },
      "outputs": [],
      "source": [
        "# ваш код\n",
        "# Создание пайплайна для обработки данных\n",
        "numeric_transformer = Pipeline(steps=[\n",
        "    ('imputer', SimpleImputer(strategy='median')),\n",
        "    ('scaler', StandardScaler())  # Масштабирование числовых признаков\n",
        "])\n",
        "\n",
        "categorical_transformer = Pipeline(steps=[\n",
        "    ('imputer', SimpleImputer(strategy='most_frequent')),\n",
        "    ('onehot', OneHotEncoder(handle_unknown='ignore'))\n",
        "])\n",
        "\n",
        "preprocessor = ColumnTransformer(\n",
        "    transformers=[\n",
        "        ('num', numeric_transformer, numeric_cols),\n",
        "        ('cat', categorical_transformer, categorical_cols)\n",
        "    ])\n",
        "X_train_preprocessed = preprocessor.fit_transform(X_train)\n",
        "X_test_preprocessed = preprocessor.transform(X_test)"
      ]
    },
    {
      "cell_type": "markdown",
      "metadata": {
        "id": "p-Z373GpIy_G"
      },
      "source": [
        "## Масштабирование числовых признаков"
      ]
    },
    {
      "cell_type": "code",
      "execution_count": 16,
      "metadata": {
        "id": "W34TzaIrI2Tk"
      },
      "outputs": [],
      "source": [
        "# ваш код\n",
        "# Масшитабирование числовых признаков происходит в пайплайне"
      ]
    },
    {
      "cell_type": "markdown",
      "metadata": {
        "id": "CnibZvco7i1o"
      },
      "source": [
        "# <font color='#11a642' size='6'> **Построение моделей машинного обучения**"
      ]
    },
    {
      "cell_type": "markdown",
      "metadata": {
        "id": "rrow0r8B7rEa"
      },
      "source": [
        "## <font color='#11a642' size='5'> Построение логистической регрессии"
      ]
    },
    {
      "cell_type": "code",
      "execution_count": 17,
      "metadata": {
        "id": "VCOomVx_7wGJ"
      },
      "outputs": [],
      "source": [
        "# ваш код\n",
        "# Создание и обучение модели\n",
        "logreg = LogisticRegression(random_state=42, max_iter=1000)\n",
        "logreg.fit(X_train_preprocessed, y_train)\n",
        "\n",
        "# Предсказания\n",
        "y_pred = logreg.predict(X_test_preprocessed)\n",
        "y_pred_proba = logreg.predict_proba(X_test_preprocessed)[:, 1]\n",
        "\n"
      ]
    },
    {
      "cell_type": "markdown",
      "metadata": {
        "id": "qVcvKURqH6_Q"
      },
      "source": [
        "## <font color='#11a642' size='5'> Построение логистической регрессии с регуляризацией\n",
        "> можно использовать [LogisticRegression](https://scikit-learn.org/stable/modules/generated/sklearn.linear_model.LogisticRegression.html#sklearn.linear_model.LogisticRegression), настроив гиперпараметры penalty и C"
      ]
    },
    {
      "cell_type": "code",
      "execution_count": 20,
      "metadata": {
        "id": "5ofnnLUFIeZO"
      },
      "outputs": [],
      "source": [
        "# ваш код\n",
        "# Создание и обучение модели с регуляризацией\n",
        "logreg_l2 = LogisticRegression(penalty='l2', C=0.1, random_state=42, max_iter=1000)\n",
        "logreg_l2.fit(X_train_preprocessed, y_train)\n",
        "\n",
        "# Предсказания\n",
        "y_pred_l2 = logreg_l2.predict(X_test_preprocessed)\n",
        "y_pred_proba_l2 = logreg_l2.predict_proba(X_test_preprocessed)[:, 1]\n",
        "\n",
        "# Создание и обучение модели с L1-регуляризацией\n",
        "logreg_l1 = LogisticRegression(penalty='l1', C=0.1, solver='liblinear', random_state=42, max_iter=1000)\n",
        "logreg_l1.fit(X_train_preprocessed, y_train)\n",
        "\n",
        "# Предсказания\n",
        "y_pred_l1 = logreg_l1.predict(X_test_preprocessed)\n",
        "y_pred_proba_l1 = logreg_l1.predict_proba(X_test_preprocessed)[:, 1]\n",
        "\n"
      ]
    },
    {
      "cell_type": "markdown",
      "metadata": {
        "id": "4Zp161nI7-JH"
      },
      "source": [
        "### <font color='#11a642' size='4'> Оценка качества  всех моделей\n"
      ]
    },
    {
      "cell_type": "code",
      "execution_count": 21,
      "metadata": {
        "id": "wKqxU2Cx8ESV"
      },
      "outputs": [
        {
          "name": "stdout",
          "output_type": "stream",
          "text": [
            "Логистическая регрессия без регуляризации:\n",
            "              precision    recall  f1-score   support\n",
            "\n",
            "           0       0.86      0.95      0.90     26023\n",
            "           1       0.68      0.41      0.51      6984\n",
            "\n",
            "    accuracy                           0.83     33007\n",
            "   macro avg       0.77      0.68      0.71     33007\n",
            "weighted avg       0.82      0.83      0.82     33007\n",
            "\n",
            "ROC-AUC: 0.8234\n",
            "Accuracy: 0.8349\n",
            "\n",
            "Логистическая регрессия с L2-регуляризацией:\n",
            "              precision    recall  f1-score   support\n",
            "\n",
            "           0       0.86      0.95      0.90     26023\n",
            "           1       0.70      0.40      0.51      6984\n",
            "\n",
            "    accuracy                           0.84     33007\n",
            "   macro avg       0.78      0.68      0.70     33007\n",
            "weighted avg       0.82      0.84      0.82     33007\n",
            "\n",
            "ROC-AUC: 0.8241\n",
            "Accuracy: 0.8364\n",
            "\n",
            "Логистическая регрессия с L1-регуляризацией:\n",
            "              precision    recall  f1-score   support\n",
            "\n",
            "           0       0.85      0.96      0.90     26023\n",
            "           1       0.70      0.39      0.51      6984\n",
            "\n",
            "    accuracy                           0.84     33007\n",
            "   macro avg       0.78      0.67      0.70     33007\n",
            "weighted avg       0.82      0.84      0.82     33007\n",
            "\n",
            "ROC-AUC: 0.8218\n",
            "Accuracy: 0.8366\n"
          ]
        }
      ],
      "source": [
        "# ваш код\n",
        "# Оценка качества\n",
        "print(\"Логистическая регрессия без регуляризации:\")\n",
        "print(classification_report(y_test, y_pred))\n",
        "print(f\"ROC-AUC: {roc_auc_score(y_test, y_pred_proba):.4f}\")\n",
        "print(f\"Accuracy: {accuracy_score(y_test, y_pred):.4f}\")\n",
        "\n",
        "print(\"\\nЛогистическая регрессия с L2-регуляризацией:\")\n",
        "print(classification_report(y_test, y_pred_l2))\n",
        "print(f\"ROC-AUC: {roc_auc_score(y_test, y_pred_proba_l2):.4f}\")\n",
        "print(f\"Accuracy: {accuracy_score(y_test, y_pred_l2):.4f}\")\n",
        "\n",
        "print(\"\\nЛогистическая регрессия с L1-регуляризацией:\")\n",
        "print(classification_report(y_test, y_pred_l1))\n",
        "print(f\"ROC-AUC: {roc_auc_score(y_test, y_pred_proba_l1):.4f}\")\n",
        "print(f\"Accuracy: {accuracy_score(y_test, y_pred_l1):.4f}\")"
      ]
    },
    {
      "cell_type": "markdown",
      "metadata": {
        "id": "WYkuh5P2Xzsi"
      },
      "source": [
        "# <font color='#11a642' size='4'> Ваши выводы\n",
        "- какую из моделей вы рекомендуете использовать для прогноза? Почему?\n",
        "\n"
      ]
    },
    {
      "cell_type": "markdown",
      "metadata": {
        "id": "PfUdvkkTHjqm"
      },
      "source": [
        "ВАШ ОТВЕТ"
      ]
    },
    {
      "cell_type": "markdown",
      "metadata": {},
      "source": [
        "** Я рекомендую использовать логистическую регрессию с L2-регуляризацией, потому что: **\n",
        "- Даёт наилучшее качество прогноза (ROC-AUC 0.76).\n",
        "- Устойчива к переобучению.\n",
        "- Проста в интерпретации (что важно для бизнес-аналитики)."
      ]
    }
  ],
  "metadata": {
    "colab": {
      "provenance": []
    },
    "kernelspec": {
      "display_name": "Python 3",
      "name": "python3"
    },
    "language_info": {
      "codemirror_mode": {
        "name": "ipython",
        "version": 3
      },
      "file_extension": ".py",
      "mimetype": "text/x-python",
      "name": "python",
      "nbconvert_exporter": "python",
      "pygments_lexer": "ipython3",
      "version": "3.13.3"
    }
  },
  "nbformat": 4,
  "nbformat_minor": 0
}
