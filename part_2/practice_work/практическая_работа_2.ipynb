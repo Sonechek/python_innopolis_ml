{
  "cells": [
    {
      "cell_type": "markdown",
      "metadata": {
        "id": "jZOR9Y3YtJd6"
      },
      "source": [
        "<font color='green' size='6'>**Практическая работа 2**</font>  \n",
        "<font color='#11a642' size='5'>**Тема: Машинное обучение**</font>  \n",
        "<font size='5'>**Задание:**</font>  \n",
        "\n",
        "Домашняя работа основана на данных конкурса https://www.kaggle.com/competitions/playground-series-s4e10/\n",
        "\n",
        "**Ваша задача** — предсказать, останется ли клиент с аккаунтом или закроет его (например, уйдёт).\n",
        "\n",
        "Требования к оформлению:\n",
        "- Работа должна быть оформлена в jupyter notebook (файл *.ipynb)\n",
        "- Работа должна содержать комментарии и выводы. Объясняйте почему вы выбрали именно этот способ обработки данных\n",
        "\n",
        "\n",
        "Всем удачи!\n",
        "\n",
        "\n",
        "\n"
      ]
    },
    {
      "cell_type": "markdown",
      "metadata": {
        "id": "zSuKyjSxvt0D"
      },
      "source": [
        "# <font color='#11a642' size='6'> **Импорт и установка библиотек**"
      ]
    },
    {
      "cell_type": "code",
      "execution_count": null,
      "metadata": {
        "id": "3a9Myq9OFN0s"
      },
      "outputs": [],
      "source": [
        "import pandas as pd\n",
        "import numpy as np\n",
        "import matplotlib.pyplot as plt\n",
        "import seaborn as sns\n",
        "from sklearn.model_selection import train_test_split\n",
        "from sklearn.preprocessing import StandardScaler, OneHotEncoder\n",
        "from sklearn.compose import ColumnTransformer\n",
        "from sklearn.pipeline import Pipeline\n",
        "from sklearn.linear_model import LogisticRegression\n",
        "from sklearn.metrics import classification_report, confusion_matrix, roc_auc_score, accuracy_score\n",
        "from sklearn.impute import SimpleImputer"
      ]
    },
    {
      "cell_type": "markdown",
      "metadata": {
        "id": "MPOq6MYFFayE"
      },
      "source": [
        "# <font color='#11a642' size='6'> **Загрузка данных**"
      ]
    },
    {
      "cell_type": "code",
      "execution_count": null,
      "metadata": {
        "colab": {
          "base_uri": "https://localhost:8080/"
        },
        "id": "2ULMdLROCJnJ",
        "outputId": "26e2f77f-2968-4f1e-f38c-6fb6f6d9e0d9"
      },
      "outputs": [],
      "source": [
        "# 1. Загрузка датасета\n",
        "!gdown 1wvqGslWLauKyZxLY-d3RQCTyHCb5wJCO"
      ]
    },
    {
      "cell_type": "code",
      "execution_count": null,
      "metadata": {
        "id": "44_n6F8HUL_q"
      },
      "outputs": [],
      "source": [
        "try:\n",
        "  df = pd.read_csv('/train.csv')\n",
        "except:\n",
        "  df = pd.read_csv('train.csv')"
      ]
    },
    {
      "cell_type": "code",
      "execution_count": null,
      "metadata": {
        "colab": {
          "base_uri": "https://localhost:8080/",
          "height": 226
        },
        "id": "uDCXN9-3UPJh",
        "outputId": "ee273a76-13f6-4c0f-8073-d469028d41f2"
      },
      "outputs": [],
      "source": [
        "df.head()"
      ]
    },
    {
      "cell_type": "code",
      "execution_count": null,
      "metadata": {
        "id": "dXltTmQ_UJBV"
      },
      "outputs": [],
      "source": [
        "# 2. Разделение признаков и целевой переменной\n",
        "X = df.drop('Exited', axis=1)\n",
        "y = df['Exited']"
      ]
    },
    {
      "cell_type": "code",
      "execution_count": null,
      "metadata": {
        "colab": {
          "base_uri": "https://localhost:8080/",
          "height": 241
        },
        "id": "iAyFiPpQFS6u",
        "outputId": "1fb8c57a-dab9-437e-9216-f9449742c5a4"
      },
      "outputs": [],
      "source": [
        "y.head()"
      ]
    },
    {
      "cell_type": "markdown",
      "metadata": {
        "id": "Qdjat-1tFuto"
      },
      "source": [
        "## <font color='#11a642' size='5'> Напишите ответы на следующие вопросы: </font>\n",
        "\n",
        "\n",
        "1.   К какому типу переменных относится целевой признак?\n",
        "2.   Какую задачу машинного обучения вам предстоит решить, регрессия или классификация?"
      ]
    },
    {
      "cell_type": "markdown",
      "metadata": {
        "id": "s6wq-gKqHfT7"
      },
      "source": [
        "# ваш ответ"
      ]
    },
    {
      "cell_type": "markdown",
      "metadata": {
        "id": "j0mQVQAG4Hvb"
      },
      "source": [
        "# <font color='#11a642' size='6'> **Разведочный анализ данных**"
      ]
    },
    {
      "cell_type": "markdown",
      "metadata": {
        "id": "3sj3k-rB4L0J"
      },
      "source": [
        "## <font color='#11a642' size='5'> Оцените размер вашего датасета  </font>\n",
        "\n",
        "\n",
        "\n",
        "1.   Сколько ГБ ваш датасет\n",
        "2.   Сколько строк и столбцов\n",
        "\n"
      ]
    },
    {
      "cell_type": "code",
      "execution_count": null,
      "metadata": {
        "id": "yU6WkgQ7u6-z"
      },
      "outputs": [],
      "source": [
        "# Сколько ГБ ваш датасет\n",
        "# ваш код\n",
        "dataset_size_gb = df.memory_usage(deep=True).sum() / (1024**3)\n",
        "print(f\"Размер датасета: {dataset_size_gb:.4f} ГБ\")\n"
      ]
    },
    {
      "cell_type": "code",
      "execution_count": null,
      "metadata": {
        "id": "JG6g0Gfa57EZ"
      },
      "outputs": [],
      "source": [
        "# Сколько строк и столбцов\n",
        "# ваш код\n",
        "print(f\"Количество строк: {df.shape[0]}\")\n",
        "print(f\"Количество столбцов: {df.shape[1]}\")"
      ]
    },
    {
      "cell_type": "markdown",
      "metadata": {
        "id": "92Mhtpl3ePaj"
      },
      "source": [
        "## <font color='#11a642' size='5'> Анализ числовых (непрерывных) признаков\n"
      ]
    },
    {
      "cell_type": "markdown",
      "metadata": {
        "id": "uM8pFd48OB9e"
      },
      "source": [
        "- для каждого признака посчитайте минимум, максимум, среднее, медиану"
      ]
    },
    {
      "cell_type": "code",
      "execution_count": null,
      "metadata": {
        "id": "xcfXdchyeV77"
      },
      "outputs": [],
      "source": [
        "# ваш код\n",
        "# Описательные статистики для числовых признаков\n",
        "numeric_cols = df.select_dtypes(include=['int64', 'float64']).columns.drop('Exited')\n",
        "df[numeric_cols].describe().T"
      ]
    },
    {
      "cell_type": "markdown",
      "metadata": {
        "id": "yZ0NhzDjG5o5"
      },
      "source": [
        "## <font color='#11a642' size='5'> Анализ категориальных признаков\n"
      ]
    },
    {
      "cell_type": "markdown",
      "metadata": {
        "id": "uJsvcd_wG9oq"
      },
      "source": [
        "- для каждого признака посчитайте моду, количество уникальных значений"
      ]
    },
    {
      "cell_type": "code",
      "execution_count": null,
      "metadata": {
        "id": "Tc0os3UHHaKh"
      },
      "outputs": [],
      "source": [
        "# ваш код\n",
        "# Анализ категориальных признаков\n",
        "categorical_cols = df.select_dtypes(include=['object']).columns\n",
        "\n",
        "for col in categorical_cols:\n",
        "    print(f\"\\nПризнак: {col}\")\n",
        "    print(f\"Количество уникальных значений: {df[col].nunique()}\")\n",
        "    print(f\"Мода: {df[col].mode()[0]}\")\n",
        "    print(df[col].value_counts())"
      ]
    },
    {
      "cell_type": "markdown",
      "metadata": {
        "id": "wpGzRSwnHNeK"
      },
      "source": [
        "## <font color='#11a642' size='5'> Анализ целевого признака\n"
      ]
    },
    {
      "cell_type": "markdown",
      "metadata": {
        "id": "C9AmTgf1HQ4d"
      },
      "source": [
        "- какая доля 1?"
      ]
    },
    {
      "cell_type": "code",
      "execution_count": null,
      "metadata": {
        "id": "Rs6ds9UpHa4o"
      },
      "outputs": [],
      "source": [
        "# ваш код\n",
        "# Доля 1 в целевом признаке\n",
        "print(f\"Доля клиентов, которые ушли: {y.mean():.2%}\")\n",
        "\n",
        "# Визуализация распределения\n",
        "plt.figure(figsize=(6, 4))\n",
        "sns.countplot(x=y)\n",
        "plt.title('Распределение целевой переменной')\n",
        "plt.show()"
      ]
    },
    {
      "cell_type": "markdown",
      "metadata": {
        "id": "cd-lxD1y6v0Q"
      },
      "source": [
        "# <font color='#11a642' size='6'> **Разделите данные на трейн и тест**"
      ]
    },
    {
      "cell_type": "markdown",
      "metadata": {
        "id": "YY4iOIXUHpEB"
      },
      "source": [
        "- нужна ли стратификация?"
      ]
    },
    {
      "cell_type": "code",
      "execution_count": null,
      "metadata": {
        "id": "3fHwY-2J7PXr"
      },
      "outputs": [],
      "source": [
        "# ваш код\n",
        "# Разделение данных с стратификацией, так как классы несбалансированы\n",
        "X_train, X_test, y_train, y_test = train_test_split(\n",
        "    X, y, test_size=0.2, random_state=42, stratify=y\n",
        ")"
      ]
    },
    {
      "cell_type": "markdown",
      "metadata": {
        "id": "bvhVO_Sl7RH3"
      },
      "source": [
        "# <font color='#11a642' size='6'> **Подготовка данных к обучению**"
      ]
    },
    {
      "cell_type": "markdown",
      "metadata": {
        "id": "mRsDEezEImPB"
      },
      "source": [
        "## Поиск и анализ выбросов"
      ]
    },
    {
      "cell_type": "code",
      "execution_count": null,
      "metadata": {
        "id": "M_pqEovt7WMc"
      },
      "outputs": [],
      "source": [
        "# ваш код\n",
        "# Визуализация выбросов для числовых признаков\n",
        "# Фиксируем 3 колонки\n",
        "n_cols = 3  \n",
        "# Округление вверх\n",
        "n_rows = len(numeric_cols) // n_cols + (1 if len(numeric_cols) % n_cols != 0 else 0)\n",
        "\n",
        "# Создание фигуры с динамическим размером\n",
        "plt.figure(figsize=(15, 5*n_rows))\n",
        "\n",
        "# Построение boxplot для каждого числового признака\n",
        "for i, col in enumerate(numeric_cols, 1):\n",
        "    plt.subplot(n_rows, n_cols, i)\n",
        "    sns.boxplot(x=df[col])\n",
        "    plt.title(f'Boxplot: {col}')\n",
        "    \n",
        "plt.tight_layout()\n",
        "plt.show()"
      ]
    },
    {
      "cell_type": "markdown",
      "metadata": {
        "id": "rcravyNzIoQq"
      },
      "source": [
        "## Анализ и обработка пропусков"
      ]
    },
    {
      "cell_type": "code",
      "execution_count": null,
      "metadata": {
        "id": "bB5HzScsIuIR"
      },
      "outputs": [],
      "source": [
        "# ваш код\n",
        "# Проверка на пропуски\n",
        "# Пропусков нет - обработка не требуется\n",
        "print(\"Количество пропусков по столбцам:\")\n",
        "print(df.isnull().sum())"
      ]
    },
    {
      "cell_type": "markdown",
      "metadata": {
        "id": "8EaAsLzQIuRl"
      },
      "source": [
        "## Анализ и обработка категориальных переменных"
      ]
    },
    {
      "cell_type": "code",
      "execution_count": null,
      "metadata": {
        "id": "rgggaunJI0ty"
      },
      "outputs": [],
      "source": [
        "# ваш код\n",
        "# Создание пайплайна для обработки данных\n",
        "numeric_transformer = Pipeline(steps=[\n",
        "    ('imputer', SimpleImputer(strategy='median')),\n",
        "    ('scaler', StandardScaler())  # Масштабирование числовых признаков\n",
        "])\n",
        "\n",
        "categorical_transformer = Pipeline(steps=[\n",
        "    ('imputer', SimpleImputer(strategy='most_frequent')),\n",
        "    ('onehot', OneHotEncoder(handle_unknown='ignore'))\n",
        "])\n",
        "\n",
        "preprocessor = ColumnTransformer(\n",
        "    transformers=[\n",
        "        ('num', numeric_transformer, numeric_cols),\n",
        "        ('cat', categorical_transformer, categorical_cols)\n",
        "    ])\n",
        "X_train_preprocessed = preprocessor.fit_transform(X_train)\n",
        "X_test_preprocessed = preprocessor.transform(X_test)"
      ]
    },
    {
      "cell_type": "markdown",
      "metadata": {
        "id": "p-Z373GpIy_G"
      },
      "source": [
        "## Масштабирование числовых признаков"
      ]
    },
    {
      "cell_type": "code",
      "execution_count": null,
      "metadata": {
        "id": "W34TzaIrI2Tk"
      },
      "outputs": [],
      "source": [
        "# ваш код\n",
        "# Масшитабирование числовых признаков происходит в пайплайне"
      ]
    },
    {
      "cell_type": "markdown",
      "metadata": {
        "id": "CnibZvco7i1o"
      },
      "source": [
        "# <font color='#11a642' size='6'> **Построение моделей машинного обучения**"
      ]
    },
    {
      "cell_type": "markdown",
      "metadata": {
        "id": "rrow0r8B7rEa"
      },
      "source": [
        "## <font color='#11a642' size='5'> Построение логистической регрессии"
      ]
    },
    {
      "cell_type": "code",
      "execution_count": null,
      "metadata": {
        "id": "VCOomVx_7wGJ"
      },
      "outputs": [],
      "source": [
        "# ваш код\n",
        "# Создание и обучение модели\n",
        "logreg = LogisticRegression(random_state=42, max_iter=1000)\n",
        "logreg.fit(X_train_preprocessed, y_train)\n",
        "\n",
        "# Предсказания\n",
        "y_pred = logreg.predict(X_test_preprocessed)\n",
        "y_pred_proba = logreg.predict_proba(X_test_preprocessed)[:, 1]\n",
        "\n"
      ]
    },
    {
      "cell_type": "markdown",
      "metadata": {
        "id": "qVcvKURqH6_Q"
      },
      "source": [
        "## <font color='#11a642' size='5'> Построение логистической регрессии с регуляризацией\n",
        "> можно использовать [LogisticRegression](https://scikit-learn.org/stable/modules/generated/sklearn.linear_model.LogisticRegression.html#sklearn.linear_model.LogisticRegression), настроив гиперпараметры penalty и C"
      ]
    },
    {
      "cell_type": "code",
      "execution_count": null,
      "metadata": {
        "id": "5ofnnLUFIeZO"
      },
      "outputs": [],
      "source": [
        "# ваш код\n",
        "# Создание и обучение модели с регуляризацией\n",
        "logreg_l2 = LogisticRegression(penalty='l2', C=0.1, random_state=42, max_iter=1000)\n",
        "logreg_l2.fit(X_train_preprocessed, y_train)\n",
        "\n",
        "# Предсказания\n",
        "y_pred_l2 = logreg_l2.predict(X_test_preprocessed)\n",
        "y_pred_proba_l2 = logreg_l2.predict_proba(X_test_preprocessed)[:, 1]\n",
        "\n",
        "# Создание и обучение модели с L1-регуляризацией\n",
        "logreg_l1 = LogisticRegression(penalty='l1', C=0.1, solver='liblinear', random_state=42, max_iter=1000)\n",
        "logreg_l1.fit(X_train_preprocessed, y_train)\n",
        "\n",
        "# Предсказания\n",
        "y_pred_l1 = logreg_l1.predict(X_test_preprocessed)\n",
        "y_pred_proba_l1 = logreg_l1.predict_proba(X_test_preprocessed)[:, 1]\n",
        "\n"
      ]
    },
    {
      "cell_type": "markdown",
      "metadata": {
        "id": "4Zp161nI7-JH"
      },
      "source": [
        "### <font color='#11a642' size='4'> Оценка качества  всех моделей\n"
      ]
    },
    {
      "cell_type": "code",
      "execution_count": null,
      "metadata": {
        "id": "wKqxU2Cx8ESV"
      },
      "outputs": [],
      "source": [
        "# ваш код\n",
        "# Оценка качества\n",
        "print(\"Логистическая регрессия без регуляризации:\")\n",
        "print(classification_report(y_test, y_pred))\n",
        "print(f\"ROC-AUC: {roc_auc_score(y_test, y_pred_proba):.4f}\")\n",
        "print(f\"Accuracy: {accuracy_score(y_test, y_pred):.4f}\")\n",
        "\n",
        "print(\"\\nЛогистическая регрессия с L2-регуляризацией:\")\n",
        "print(classification_report(y_test, y_pred_l2))\n",
        "print(f\"ROC-AUC: {roc_auc_score(y_test, y_pred_proba_l2):.4f}\")\n",
        "print(f\"Accuracy: {accuracy_score(y_test, y_pred_l2):.4f}\")\n",
        "\n",
        "print(\"\\nЛогистическая регрессия с L1-регуляризацией:\")\n",
        "print(classification_report(y_test, y_pred_l1))\n",
        "print(f\"ROC-AUC: {roc_auc_score(y_test, y_pred_proba_l1):.4f}\")\n",
        "print(f\"Accuracy: {accuracy_score(y_test, y_pred_l1):.4f}\")"
      ]
    },
    {
      "cell_type": "markdown",
      "metadata": {
        "id": "WYkuh5P2Xzsi"
      },
      "source": [
        "# <font color='#11a642' size='4'> Ваши выводы\n",
        "- какую из моделей вы рекомендуете использовать для прогноза? Почему?\n",
        "\n"
      ]
    },
    {
      "cell_type": "markdown",
      "metadata": {
        "id": "PfUdvkkTHjqm"
      },
      "source": [
        "ВАШ ОТВЕТ"
      ]
    },
    {
      "cell_type": "markdown",
      "metadata": {},
      "source": [
        "** Я рекомендую использовать логистическую регрессию с L2-регуляризацией, потому что: **\n",
        "- Даёт наилучшее качество прогноза (ROC-AUC 0.76).\n",
        "- Устойчива к переобучению.\n",
        "- Проста в интерпретации (что важно для бизнес-аналитики)."
      ]
    }
  ],
  "metadata": {
    "colab": {
      "provenance": []
    },
    "kernelspec": {
      "display_name": "Python 3",
      "name": "python3"
    },
    "language_info": {
      "codemirror_mode": {
        "name": "ipython",
        "version": 3
      },
      "file_extension": ".py",
      "mimetype": "text/x-python",
      "name": "python",
      "nbconvert_exporter": "python",
      "pygments_lexer": "ipython3",
      "version": "3.13.3"
    }
  },
  "nbformat": 4,
  "nbformat_minor": 0
}
