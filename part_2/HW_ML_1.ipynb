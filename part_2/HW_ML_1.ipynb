{
  "cells": [
    {
      "cell_type": "markdown",
      "metadata": {
        "id": "jZOR9Y3YtJd6"
      },
      "source": [
        "<font color='green' size='6'>**Домашняя работа 1**</font>  \n",
        "<font color='#11a642' size='5'>**Тема: Машинное обучение**</font>  \n",
        "<font size='5'>**Задание:**</font>  \n",
        "\n",
        "Домашняя работа основана на данных о стоимости недвижимости.\n",
        "\n",
        "**Описание данных:**\n",
        "\n",
        "| Признак     | Описание                                                 |\n",
        "|-------------|-----------------------------------------------------------|\n",
        "| MedInc      | Средний доход домохозяйства (в десятках тысяч долларов)  |\n",
        "| HouseAge    | Средний возраст домов в районе                           |\n",
        "| AveRooms    | Среднее количество комнат на дом                         |\n",
        "| AveBedrms   | Среднее количество спален на дом                         |\n",
        "| Population  | Население района                                         |\n",
        "| AveOccup    | Среднее количество человек на дом                        |\n",
        "\n",
        "- target - стомиость недвижимости, что и нужно вам предсказать (это и есть целевой признак)\n",
        "\n",
        "**Что нужно сделать:**\n",
        "\n",
        "1. Проведите разведочный анализ данных (EDA)\n",
        "\n",
        "2. Заполнить пропуски любыми 2 способами, что обсуждали на лекции. Объясните свой выбор\n",
        "\n",
        "3. Построите модель линейной регрессии c помощью LinearRegression.\n",
        "\n",
        "4. Оцените качество моделей. Выберите ту модель+метод заполнения пропусков, который даёт наилучший результат, и обоснуйте свой выбор.\n",
        "\n",
        "\n",
        "\n",
        "\n",
        "\n"
      ]
    },
    {
      "cell_type": "markdown",
      "metadata": {
        "id": "zSuKyjSxvt0D"
      },
      "source": [
        "# <font color='#11a642' size='6'> **Импорт и установка библиотек**"
      ]
    },
    {
      "cell_type": "code",
      "execution_count": 1,
      "metadata": {
        "id": "3a9Myq9OFN0s"
      },
      "outputs": [],
      "source": [
        "# %pip install scikit-learn\n",
        "\n",
        "import pandas as pd\n",
        "import numpy as np\n",
        "import matplotlib.pyplot as plt\n",
        "import seaborn as sns\n",
        "from sklearn.model_selection import train_test_split\n",
        "from sklearn.linear_model import LinearRegression\n",
        "from sklearn.metrics import mean_squared_error, r2_score, mean_absolute_error\n",
        "from sklearn.impute import SimpleImputer\n"
      ]
    },
    {
      "cell_type": "markdown",
      "metadata": {
        "id": "MPOq6MYFFayE"
      },
      "source": [
        "# <font color='#11a642' size='6'> **Загрузка данных**"
      ]
    },
    {
      "cell_type": "code",
      "execution_count": 2,
      "metadata": {
        "colab": {
          "base_uri": "https://localhost:8080/"
        },
        "id": "2ULMdLROCJnJ",
        "outputId": "3bcc56c2-6a5e-4573-c60a-2f4358b73c4d"
      },
      "outputs": [
        {
          "name": "stderr",
          "output_type": "stream",
          "text": [
            "Downloading...\n",
            "From: https://drive.google.com/uc?id=1yQgwqFxwkHtZL2PZ2waF4Pg3Sb9hyHo9\n",
            "To: c:\\Users\\alexander\\Desktop\\python_innopolis_ml\\part_2\\df_with_nan.csv\n",
            "\n",
            "  0%|          | 0.00/1.16M [00:00<?, ?B/s]\n",
            " 45%|████▌     | 524k/1.16M [00:00<00:00, 3.48MB/s]\n",
            "100%|██████████| 1.16M/1.16M [00:00<00:00, 6.01MB/s]\n"
          ]
        }
      ],
      "source": [
        "# 1. Загрузка датасета\n",
        "!gdown 1yQgwqFxwkHtZL2PZ2waF4Pg3Sb9hyHo9\n"
      ]
    },
    {
      "cell_type": "code",
      "execution_count": 3,
      "metadata": {
        "id": "44_n6F8HUL_q"
      },
      "outputs": [],
      "source": [
        "df = pd.read_csv('df_with_nan.csv')"
      ]
    },
    {
      "cell_type": "code",
      "execution_count": 4,
      "metadata": {
        "colab": {
          "base_uri": "https://localhost:8080/",
          "height": 206
        },
        "id": "uDCXN9-3UPJh",
        "outputId": "949235b6-5aad-43ab-d2b6-7211780fbaef"
      },
      "outputs": [
        {
          "data": {
            "text/html": [
              "<div>\n",
              "<style scoped>\n",
              "    .dataframe tbody tr th:only-of-type {\n",
              "        vertical-align: middle;\n",
              "    }\n",
              "\n",
              "    .dataframe tbody tr th {\n",
              "        vertical-align: top;\n",
              "    }\n",
              "\n",
              "    .dataframe thead th {\n",
              "        text-align: right;\n",
              "    }\n",
              "</style>\n",
              "<table border=\"1\" class=\"dataframe\">\n",
              "  <thead>\n",
              "    <tr style=\"text-align: right;\">\n",
              "      <th></th>\n",
              "      <th>MedInc</th>\n",
              "      <th>HouseAge</th>\n",
              "      <th>AveRooms</th>\n",
              "      <th>AveBedrms</th>\n",
              "      <th>Population</th>\n",
              "      <th>AveOccup</th>\n",
              "      <th>Target</th>\n",
              "    </tr>\n",
              "  </thead>\n",
              "  <tbody>\n",
              "    <tr>\n",
              "      <th>0</th>\n",
              "      <td>8.3252</td>\n",
              "      <td>41.0</td>\n",
              "      <td>6.984127</td>\n",
              "      <td>1.023810</td>\n",
              "      <td>322</td>\n",
              "      <td>2.555556</td>\n",
              "      <td>4.526</td>\n",
              "    </tr>\n",
              "    <tr>\n",
              "      <th>1</th>\n",
              "      <td>8.3014</td>\n",
              "      <td>21.0</td>\n",
              "      <td>6.238137</td>\n",
              "      <td>0.971880</td>\n",
              "      <td>2401</td>\n",
              "      <td>2.109842</td>\n",
              "      <td>3.585</td>\n",
              "    </tr>\n",
              "    <tr>\n",
              "      <th>2</th>\n",
              "      <td>7.2574</td>\n",
              "      <td>52.0</td>\n",
              "      <td>8.288136</td>\n",
              "      <td>1.073446</td>\n",
              "      <td>496</td>\n",
              "      <td>2.802260</td>\n",
              "      <td>3.521</td>\n",
              "    </tr>\n",
              "    <tr>\n",
              "      <th>3</th>\n",
              "      <td>5.6431</td>\n",
              "      <td>52.0</td>\n",
              "      <td>5.817352</td>\n",
              "      <td>1.073059</td>\n",
              "      <td>558</td>\n",
              "      <td>2.547945</td>\n",
              "      <td>3.413</td>\n",
              "    </tr>\n",
              "    <tr>\n",
              "      <th>4</th>\n",
              "      <td>3.8462</td>\n",
              "      <td>52.0</td>\n",
              "      <td>6.281853</td>\n",
              "      <td>1.081081</td>\n",
              "      <td>565</td>\n",
              "      <td>2.181467</td>\n",
              "      <td>3.422</td>\n",
              "    </tr>\n",
              "  </tbody>\n",
              "</table>\n",
              "</div>"
            ],
            "text/plain": [
              "   MedInc  HouseAge  AveRooms  AveBedrms  Population  AveOccup  Target\n",
              "0  8.3252      41.0  6.984127   1.023810         322  2.555556   4.526\n",
              "1  8.3014      21.0  6.238137   0.971880        2401  2.109842   3.585\n",
              "2  7.2574      52.0  8.288136   1.073446         496  2.802260   3.521\n",
              "3  5.6431      52.0  5.817352   1.073059         558  2.547945   3.413\n",
              "4  3.8462      52.0  6.281853   1.081081         565  2.181467   3.422"
            ]
          },
          "execution_count": 4,
          "metadata": {},
          "output_type": "execute_result"
        }
      ],
      "source": [
        "df.head()"
      ]
    },
    {
      "cell_type": "code",
      "execution_count": 5,
      "metadata": {
        "id": "dXltTmQ_UJBV"
      },
      "outputs": [],
      "source": [
        "# 2. Разделение признаков и целевой переменной\n",
        "X = df.drop('Target', axis=1)\n",
        "y = df['Target']"
      ]
    },
    {
      "cell_type": "code",
      "execution_count": 6,
      "metadata": {
        "colab": {
          "base_uri": "https://localhost:8080/",
          "height": 241
        },
        "id": "iAyFiPpQFS6u",
        "outputId": "929489a1-d8cd-418a-b38c-384e0d035fbb"
      },
      "outputs": [
        {
          "data": {
            "text/plain": [
              "0    4.526\n",
              "1    3.585\n",
              "2    3.521\n",
              "3    3.413\n",
              "4    3.422\n",
              "Name: Target, dtype: float64"
            ]
          },
          "execution_count": 6,
          "metadata": {},
          "output_type": "execute_result"
        }
      ],
      "source": [
        "y.head()"
      ]
    },
    {
      "cell_type": "markdown",
      "metadata": {
        "id": "j0mQVQAG4Hvb"
      },
      "source": [
        "# <font color='#11a642' size='6'> **Разведочный анализ данных**"
      ]
    },
    {
      "cell_type": "markdown",
      "metadata": {
        "id": "3sj3k-rB4L0J"
      },
      "source": [
        "## <font color='#11a642' size='5'> Оцените размер вашего датасета\n",
        "\n",
        "\n",
        "1.   Сколько ГБ ваш датасет\n",
        "2.   Сколько строк и столбцов\n",
        "\n"
      ]
    },
    {
      "cell_type": "code",
      "execution_count": 7,
      "metadata": {
        "id": "yU6WkgQ7u6-z"
      },
      "outputs": [
        {
          "name": "stdout",
          "output_type": "stream",
          "text": [
            "Размер в памяти: 0.001077 ГБ\n"
          ]
        }
      ],
      "source": [
        "# Сколько ГБ ваш датасет\n",
        "# ваш код\n",
        "\n",
        "print(f\"Размер в памяти: {df.memory_usage(deep=True).sum() / (1024**3):.6f} ГБ\")"
      ]
    },
    {
      "cell_type": "code",
      "execution_count": 8,
      "metadata": {
        "id": "JG6g0Gfa57EZ"
      },
      "outputs": [
        {
          "name": "stdout",
          "output_type": "stream",
          "text": [
            "Количество строк: 20,640\n",
            "Количество столбцов: 7\n"
          ]
        }
      ],
      "source": [
        "# Сколько строк и столбцов\n",
        "# ваш код\n",
        "\n",
        "print(f\"Количество строк: {df.shape[0]:,}\")\n",
        "print(f\"Количество столбцов: {df.shape[1]}\")"
      ]
    },
    {
      "cell_type": "markdown",
      "metadata": {
        "id": "92Mhtpl3ePaj"
      },
      "source": [
        "## <font color='#11a642' size='5'> Анализ числовых (непрерывных) признаков\n"
      ]
    },
    {
      "cell_type": "markdown",
      "metadata": {
        "id": "uM8pFd48OB9e"
      },
      "source": [
        "- для каждого признака посчитайте минимум, максимум, среднее, медиану"
      ]
    },
    {
      "cell_type": "code",
      "execution_count": 9,
      "metadata": {
        "id": "xcfXdchyeV77"
      },
      "outputs": [
        {
          "name": "stdout",
          "output_type": "stream",
          "text": [
            "   Признак  Минимум  Максимум  Среднее  Медиана  Стд. отклонение\n",
            "    MedInc    0.500    15.000    3.870    3.535            1.900\n",
            "  HouseAge    1.000    52.000   28.628   29.000           12.578\n",
            "  AveRooms    0.846   141.909    5.429    5.229            2.475\n",
            " AveBedrms    0.333    34.067    1.097    1.049            0.474\n",
            "Population    3.000 35682.000 1425.477 1166.000         1132.462\n",
            "  AveOccup    0.692  1243.333    3.071    2.818           10.386\n"
          ]
        }
      ],
      "source": [
        "# ваш код\n",
        "\n",
        "# Разделение на признаки и целевую переменную\n",
        "X = df.drop('Target', axis=1)\n",
        "y = df['Target']\n",
        "\n",
        "stats_df = pd.DataFrame({\n",
        "    'Признак': X.columns,\n",
        "    'Минимум': X.min().values,\n",
        "    'Максимум': X.max().values,\n",
        "    'Среднее': X.mean().values,\n",
        "    'Медиана': X.median().values,\n",
        "    'Стд. отклонение': X.std().values\n",
        "})\n",
        "print(stats_df.round(3).to_string(index=False))"
      ]
    },
    {
      "cell_type": "markdown",
      "metadata": {
        "id": "kvgXZ_1C6jFH"
      },
      "source": [
        "## <font color='#11a642' size='5'> Анализ пропусков\n"
      ]
    },
    {
      "cell_type": "code",
      "execution_count": 10,
      "metadata": {
        "id": "5UljiSaQ6k_r"
      },
      "outputs": [
        {
          "name": "stdout",
          "output_type": "stream",
          "text": [
            " Признак  Количество пропусков  Процент пропусков\n",
            "  MedInc                    11               0.05\n",
            "HouseAge                    11               0.05\n",
            "AveRooms                    15               0.07\n"
          ]
        }
      ],
      "source": [
        "# ваш код\n",
        "\n",
        "missing_info = pd.DataFrame({\n",
        "    'Признак': df.columns,\n",
        "    'Количество пропусков': df.isnull().sum().values,\n",
        "    'Процент пропусков': (df.isnull().sum() / len(df) * 100).values\n",
        "})\n",
        "missing_info = missing_info[missing_info['Количество пропусков'] > 0]\n",
        "if len(missing_info) > 0:\n",
        "    print(missing_info.round(2).to_string(index=False))\n",
        "else:\n",
        "    print(\"Пропусков не обнаружено!\")"
      ]
    },
    {
      "cell_type": "markdown",
      "metadata": {
        "id": "cd-lxD1y6v0Q"
      },
      "source": [
        "# <font color='#11a642' size='6'> **Разделите данные на трейн и тест**"
      ]
    },
    {
      "cell_type": "code",
      "execution_count": 11,
      "metadata": {
        "id": "3fHwY-2J7PXr"
      },
      "outputs": [
        {
          "name": "stdout",
          "output_type": "stream",
          "text": [
            "Размер обучающей выборки: 16,512 образцов\n",
            "Размер тестовой выборки: 4,128 образцов\n"
          ]
        }
      ],
      "source": [
        "# ваш код\n",
        "\n",
        "X_train, X_test, y_train, y_test = train_test_split(X, y, test_size=0.2, random_state=42)\n",
        "\n",
        "print(f\"Размер обучающей выборки: {X_train.shape[0]:,} образцов\")\n",
        "print(f\"Размер тестовой выборки: {X_test.shape[0]:,} образцов\")"
      ]
    },
    {
      "cell_type": "markdown",
      "metadata": {
        "id": "bvhVO_Sl7RH3"
      },
      "source": [
        "# <font color='#11a642' size='6'> **Подготовка данных к обучению**"
      ]
    },
    {
      "cell_type": "markdown",
      "metadata": {
        "id": "QnLudVXy7XzV"
      },
      "source": [
        "\n",
        "\n",
        "1. Обработка пропусков любыми 2 способами, изученных на лекции\n",
        "\n",
        "\n"
      ]
    },
    {
      "cell_type": "code",
      "execution_count": 12,
      "metadata": {
        "id": "M_pqEovt7WMc"
      },
      "outputs": [],
      "source": [
        "# ваш код\n",
        "\n",
        "#  СПОСОБ 1: Заполнение средним значением\n",
        "imputer_mean = SimpleImputer(strategy='mean')\n",
        "X_train_mean = pd.DataFrame(\n",
        "    imputer_mean.fit_transform(X_train),\n",
        "    columns=X_train.columns,\n",
        "    index=X_train.index\n",
        ")\n",
        "X_test_mean = pd.DataFrame(\n",
        "    imputer_mean.transform(X_test),\n",
        "    columns=X_test.columns,\n",
        "    index=X_test.index\n",
        ")\n",
        "\n",
        "# СПОСОБ 2: Заполнение медианой\n",
        "\n",
        "imputer_median = SimpleImputer(strategy='median')\n",
        "X_train_median = pd.DataFrame(\n",
        "    imputer_median.fit_transform(X_train),\n",
        "    columns=X_train.columns,\n",
        "    index=X_train.index\n",
        ")\n",
        "X_test_median = pd.DataFrame(\n",
        "    imputer_median.transform(X_test),\n",
        "    columns=X_test.columns,\n",
        "    index=X_test.index\n",
        ")\n"
      ]
    },
    {
      "cell_type": "markdown",
      "metadata": {
        "id": "CnibZvco7i1o"
      },
      "source": [
        "# <font color='#11a642' size='6'> **Построение моделей машинного обучения**"
      ]
    },
    {
      "cell_type": "markdown",
      "metadata": {
        "id": "rrow0r8B7rEa"
      },
      "source": [
        "## <font color='#11a642' size='5'> Построение линейной регрессии с помощью LinearRegression\n"
      ]
    },
    {
      "cell_type": "code",
      "execution_count": 13,
      "metadata": {
        "id": "VCOomVx_7wGJ"
      },
      "outputs": [],
      "source": [
        "# ваш код\n",
        "\n",
        "def evaluate_model(y_true, y_pred, model_name):\n",
        "    mse = mean_squared_error(y_true, y_pred)\n",
        "    rmse = np.sqrt(mse)\n",
        "    mae = mean_absolute_error(y_true, y_pred)\n",
        "    r2 = r2_score(y_true, y_pred)\n",
        "    \n",
        "    return {\n",
        "        'Модель': model_name,\n",
        "        'MSE': mse,\n",
        "        'RMSE': rmse,\n",
        "        'MAE': mae,\n",
        "        'R²': r2\n",
        "    }\n",
        "\n",
        "results = []\n",
        "\n",
        "lr_mean = LinearRegression()\n",
        "lr_mean.fit(X_train_mean, y_train)\n",
        "y_pred_mean = lr_mean.predict(X_test_mean)\n",
        "results.append(evaluate_model(y_test, y_pred_mean, \"LinearRegression + Mean\"))\n",
        "\n",
        "lr_median = LinearRegression()\n",
        "lr_median.fit(X_train_median, y_train)\n",
        "y_pred_median = lr_median.predict(X_test_median)\n",
        "results.append(evaluate_model(y_test, y_pred_median, \"LinearRegression + Median\"))\n",
        "\n",
        "\n"
      ]
    },
    {
      "cell_type": "markdown",
      "metadata": {
        "id": "4Zp161nI7-JH"
      },
      "source": [
        "### <font color='#11a642' size='4'> Оценка качества  всех моделей\n"
      ]
    },
    {
      "cell_type": "code",
      "execution_count": 14,
      "metadata": {
        "id": "wKqxU2Cx8ESV"
      },
      "outputs": [
        {
          "name": "stdout",
          "output_type": "stream",
          "text": [
            "РЕЗУЛЬТАТЫ ОЦЕНКИ МОДЕЛЕЙ:\n",
            "                   Модель    MSE   RMSE    MAE     R²\n",
            "  LinearRegression + Mean 0.6427 0.8017 0.5798 0.5096\n",
            "LinearRegression + Median 0.6428 0.8017 0.5798 0.5095\n",
            "ЛУЧШАЯ МОДЕЛЬ: LinearRegression + Mean\n",
            "R² Score: 0.5096\n",
            "RMSE: 0.8017\n"
          ]
        }
      ],
      "source": [
        "# ваш код\n",
        "\n",
        "results_df = pd.DataFrame(results)\n",
        "print(\"РЕЗУЛЬТАТЫ ОЦЕНКИ МОДЕЛЕЙ:\")\n",
        "print(results_df.round(4).to_string(index=False))\n",
        "\n",
        "# Определение лучшей модели\n",
        "best_model_idx = results_df['R²'].idxmax()\n",
        "best_model = results_df.iloc[best_model_idx]\n",
        "\n",
        "print(f\"ЛУЧШАЯ МОДЕЛЬ: {best_model['Модель']}\")\n",
        "print(f\"R² Score: {best_model['R²']:.4f}\")\n",
        "print(f\"RMSE: {best_model['RMSE']:.4f}\")"
      ]
    },
    {
      "cell_type": "code",
      "execution_count": 18,
      "metadata": {},
      "outputs": [
        {
          "name": "stdout",
          "output_type": "stream",
          "text": [
            "\n",
            "КОЭФФИЦИЕНТЫ МОДЕЛИ:\n",
            "----------------------------------------\n",
            "   Признак  Коэффициент  Важность\n",
            " AveBedrms       1.1092    1.1092\n",
            "    MedInc       0.5455    0.5455\n",
            "  AveRooms      -0.2227    0.2227\n",
            "  HouseAge       0.0168    0.0168\n",
            "  AveOccup      -0.0046    0.0046\n",
            "Population       0.0000    0.0000\n",
            "\n",
            "Свободный член (intercept): -0.5511\n"
          ]
        }
      ],
      "source": [
        "# Выбираем лучшую модель\n",
        "if best_model['Модель'] == \"LinearRegression + Mean\":\n",
        "    best_lr_model = lr_mean\n",
        "    feature_names = X_train_mean.columns\n",
        "else:\n",
        "    best_lr_model = lr_median\n",
        "    feature_names = X_train_median.columns\n",
        "\n",
        "coefficients_df = pd.DataFrame({\n",
        "    'Признак': feature_names,\n",
        "    'Коэффициент': best_lr_model.coef_,\n",
        "    'Важность': np.abs(best_lr_model.coef_)\n",
        "}).sort_values('Важность', ascending=False)\n",
        "\n",
        "print(\"\\nКОЭФФИЦИЕНТЫ МОДЕЛИ:\")\n",
        "print(\"-\" * 40)\n",
        "print(coefficients_df.round(4).to_string(index=False))\n",
        "print(f\"\\nСвободный член (intercept): {best_lr_model.intercept_:.4f}\")"
      ]
    },
    {
      "cell_type": "markdown",
      "metadata": {
        "id": "WYkuh5P2Xzsi"
      },
      "source": [
        "# <font color='#11a642' size='4'> Ваши выводы\n",
        "- какую из моделей вы рекомендуете использовать для прогноза? Почему?\n",
        "\n"
      ]
    },
    {
      "cell_type": "markdown",
      "metadata": {
        "id": "PfUdvkkTHjqm"
      },
      "source": [
        "ВАШ ОТВЕТ"
      ]
    },
    {
      "cell_type": "code",
      "execution_count": 23,
      "metadata": {},
      "outputs": [
        {
          "name": "stdout",
          "output_type": "stream",
          "text": [
            "\n",
            "1. РАЗМЕР ДАННЫХ:\n",
            "   • Датасет содержит 20,640 записей и 7 признаков\n",
            "   • Размер в памяти: 0.001077 ГБ\n",
            "\n",
            "2. ПРОПУСКИ В ДАННЫХ:\n",
            "   • Обнаружены пропуски в 3 признаках\n",
            "   • Применены два метода заполнения: среднее и медиана\n",
            "\n",
            "3. КАЧЕСТВО МОДЕЛЕЙ:\n",
            "   • Лучшая модель: LinearRegression + Mean\n",
            "   • R² Score: 0.5096 (объясняет 51.0% дисперсии)\n",
            "   • RMSE: 0.8017\n",
            "\n",
            "4. ВАЖНЫЕ ПРИЗНАКИ:\n",
            "   • Наиболее влиятельный: AveBedrms (коэф. 1.1092)\n",
            "   • Наименее влиятельный: Population (коэф. 0.0000)\n",
            "\n",
            "\n",
            "РЕКОМЕНДАЦИИ:\n",
            "--------------------\n",
            "\n",
            "• Рекомендуется использовать модель LinearRegression с методом \"заполнение средним\"\n",
            "• Причины выбора:\n",
            "  - Показывает наилучшее качество по метрике R² (0.5096)\n",
            "  - Имеет наименьшую ошибку RMSE (0.8017)\n",
            "  - Простая и интерпретируемая модель\n",
            "\n",
            "• Дальнейшие улучшения:\n",
            "  - Можно попробовать полиномиальные признаки\n",
            "  - Применить регуляризацию (Ridge, Lasso)\n",
            "  - Использовать более сложные методы заполнения пропусков\n",
            "\n"
          ]
        }
      ],
      "source": [
        "print(f\"\"\"\n",
        "1. РАЗМЕР ДАННЫХ:\n",
        "   • Датасет содержит {df.shape[0]:,} записей и {df.shape[1]} признаков\n",
        "   • Размер в памяти: {df.memory_usage(deep=True).sum() / (1024**3):.6f} ГБ\n",
        "\n",
        "2. ПРОПУСКИ В ДАННЫХ:\n",
        "   • Обнаружены пропуски в {missing_info.shape[0] if len(missing_info) > 0 else 0} признаках\n",
        "   • Применены два метода заполнения: среднее и медиана\n",
        "\n",
        "3. КАЧЕСТВО МОДЕЛЕЙ:\n",
        "   • Лучшая модель: {best_model['Модель']}\n",
        "   • R² Score: {best_model['R²']:.4f} (объясняет {best_model['R²']*100:.1f}% дисперсии)\n",
        "   • RMSE: {best_model['RMSE']:.4f}\n",
        "\n",
        "4. ВАЖНЫЕ ПРИЗНАКИ:\n",
        "   • Наиболее влиятельный: {coefficients_df.iloc[0]['Признак']} (коэф. {coefficients_df.iloc[0]['Коэффициент']:.4f})\n",
        "   • Наименее влиятельный: {coefficients_df.iloc[-1]['Признак']} (коэф. {coefficients_df.iloc[-1]['Коэффициент']:.4f})\n",
        "\"\"\")\n",
        "\n",
        "print(\"\\nРЕКОМЕНДАЦИИ:\")\n",
        "print(\"-\" * 20)\n",
        "\n",
        "recommendation = \"заполнение средним\" if \"Mean\" in best_model['Модель'] else \"заполнение медианой\"\n",
        "print(f\"\"\"\n",
        "• Рекомендуется использовать модель LinearRegression с методом \"{recommendation}\"\n",
        "• Причины выбора:\n",
        "  - Показывает наилучшее качество по метрике R² ({best_model['R²']:.4f})\n",
        "  - Имеет наименьшую ошибку RMSE ({best_model['RMSE']:.4f})\n",
        "  - Простая и интерпретируемая модель\n",
        "  \n",
        "• Дальнейшие улучшения:\n",
        "  - Можно попробовать полиномиальные признаки\n",
        "  - Применить регуляризацию (Ridge, Lasso)\n",
        "  - Использовать более сложные методы заполнения пропусков\n",
        "\"\"\")"
      ]
    }
  ],
  "metadata": {
    "colab": {
      "provenance": []
    },
    "kernelspec": {
      "display_name": "Python 3",
      "name": "python3"
    },
    "language_info": {
      "codemirror_mode": {
        "name": "ipython",
        "version": 3
      },
      "file_extension": ".py",
      "mimetype": "text/x-python",
      "name": "python",
      "nbconvert_exporter": "python",
      "pygments_lexer": "ipython3",
      "version": "3.13.3"
    }
  },
  "nbformat": 4,
  "nbformat_minor": 0
}
