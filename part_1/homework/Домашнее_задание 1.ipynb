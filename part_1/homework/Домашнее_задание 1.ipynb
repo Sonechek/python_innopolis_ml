{
 "cells": [
  {
   "cell_type": "markdown",
   "metadata": {
    "id": "JUpV4JJRVjH4"
   },
   "source": [
    "# Домашнее задание № 1"
   ]
  },
  {
   "cell_type": "markdown",
   "metadata": {
    "id": "kbJt8TyMujxo"
   },
   "source": [
    "### Задание 1: Кодировщик Цезаря\n",
    "\n",
    "\n",
    "Описание:\n",
    "\n",
    "Напишите функцию, которая реализует кодирование строки шифром Цезаря.\n",
    "\n",
    "In:\n",
    "* строка\n",
    "* размер сдвига\n",
    "\n",
    "Out:\n",
    "* зашифрованная строка\n",
    "\n",
    "Ограничения: строка содержит только буквы русского алфавита"
   ]
  },
  {
   "cell_type": "code",
   "execution_count": 2,
   "metadata": {
    "id": "oZgX9GMrugmO"
   },
   "outputs": [],
   "source": [
    "letters=['А','Б','В','Г','Д','Е','Ж','З','И','Й',\n",
    "         'К','Л','М','Н','О','П','Р','С','Т','У',\n",
    "         'Ф','Х','Ц','Ч','Ш','Щ','Ъ','Ы','Ь','Э',\n",
    "         'Ю', 'Я']"
   ]
  },
  {
   "cell_type": "code",
   "execution_count": null,
   "metadata": {
    "id": "jfpNgDEGVjH7"
   },
   "outputs": [
    {
     "name": "stdout",
     "output_type": "stream",
     "text": [
      "АРПОЙА\n"
     ]
    }
   ],
   "source": [
    "# Ваш код\n",
    "def caesar(text, d):\n",
    "    encrypted_text = \"\"\n",
    "    for symb in text:\n",
    "        if symb in letters:\n",
    "            symb_index = (letters.index(symb) + d) % len(letters) # исправлены граничные значения\n",
    "            encrypted_text += letters[symb_index]\n",
    "        else:\n",
    "            print('Символ не содержится в заданном алфавите')\n",
    "            break\n",
    "    return encrypted_text\n",
    "\n",
    "\n",
    "text = str(input())\n",
    "d = int(input())\n",
    "print(caesar(text, d))\n"
   ]
  },
  {
   "cell_type": "markdown",
   "metadata": {
    "id": "7OjM3A7Ou7HR"
   },
   "source": [
    "### Задание 2: Дешифровщик Цезаря\n",
    "\n",
    "Описание:\n",
    "\n",
    "Напишите функцию, которая реализует декодирование строки, зашифрованной шифром Цезаря.\n",
    "\n",
    "In:\n",
    "* зашифрованная строка\n",
    "\n",
    "Out:\n",
    "* список кортежей (сдвиг, результат дешифровки)\n",
    "\n",
    "Ограничения: метод дешифрования - brute force =)"
   ]
  },
  {
   "cell_type": "code",
   "execution_count": null,
   "metadata": {
    "id": "c9LrLZKBusJ1"
   },
   "outputs": [
    {
     "name": "stdout",
     "output_type": "stream",
     "text": [
      "Сдвиг 1 - ЯПОНИЯ\n",
      "Сдвиг 2 - ЮОНМЗЮ\n",
      "Сдвиг 3 - ЭНМЛЖЭ\n",
      "Сдвиг 4 - ЬМЛКЕЬ\n",
      "Сдвиг 5 - ЫЛКЙДЫ\n",
      "Сдвиг 6 - ЪКЙИГЪ\n",
      "Сдвиг 7 - ЩЙИЗВЩ\n",
      "Сдвиг 8 - ШИЗЖБШ\n",
      "Сдвиг 9 - ЧЗЖЕАЧ\n",
      "Сдвиг 10 - ЦЖЕДЯЦ\n",
      "Сдвиг 11 - ХЕДГЮХ\n",
      "Сдвиг 12 - ФДГВЭФ\n",
      "Сдвиг 13 - УГВБЬУ\n",
      "Сдвиг 14 - ТВБАЫТ\n",
      "Сдвиг 15 - СБАЯЪС\n",
      "Сдвиг 16 - РАЯЮЩР\n",
      "Сдвиг 17 - ПЯЮЭШП\n",
      "Сдвиг 18 - ОЮЭЬЧО\n",
      "Сдвиг 19 - НЭЬЫЦН\n",
      "Сдвиг 20 - МЬЫЪХМ\n",
      "Сдвиг 21 - ЛЫЪЩФЛ\n",
      "Сдвиг 22 - КЪЩШУК\n",
      "Сдвиг 23 - ЙЩШЧТЙ\n",
      "Сдвиг 24 - ИШЧЦСИ\n",
      "Сдвиг 25 - ЗЧЦХРЗ\n",
      "Сдвиг 26 - ЖЦХФПЖ\n",
      "Сдвиг 27 - ЕХФУОЕ\n",
      "Сдвиг 28 - ДФУТНД\n",
      "Сдвиг 29 - ГУТСМГ\n",
      "Сдвиг 30 - ВТСРЛВ\n",
      "Сдвиг 31 - БСРПКБ\n"
     ]
    }
   ],
   "source": [
    "# Ваш код\n",
    "def decrypted_caesar(encrypted_text):\n",
    "    result = []\n",
    "    for i in range(1, len(letters)):\n",
    "        decrypted_text = \"\"\n",
    "        for symb in encrypted_text:\n",
    "            if symb in letters:\n",
    "                symb_index = (letters.index(symb) - i) % len(letters)\n",
    "                decrypted_text += letters[symb_index]\n",
    "            else:\n",
    "                print('Символ не содержится в заданном алфавите')\n",
    "                break\n",
    "        result.append((i, decrypted_text))\n",
    "    return result\n",
    "        \n",
    "\n",
    "encrypted_text = str(input())\n",
    "decrypted_result = decrypted_caesar(encrypted_text) # результат заносится в переменную, чтобы убрать двойной вызов функции как было в предыдущей версии\n",
    "\n",
    "for key, text in decrypted_result:\n",
    "    print(f\"Сдвиг {key} - {text}\")\n",
    "    "
   ]
  }
 ],
 "metadata": {
  "colab": {
   "provenance": []
  },
  "kernelspec": {
   "display_name": "Python 3",
   "language": "python",
   "name": "python3"
  },
  "language_info": {
   "codemirror_mode": {
    "name": "ipython",
    "version": 3
   },
   "file_extension": ".py",
   "mimetype": "text/x-python",
   "name": "python",
   "nbconvert_exporter": "python",
   "pygments_lexer": "ipython3",
   "version": "3.13.2"
  }
 },
 "nbformat": 4,
 "nbformat_minor": 0
}
