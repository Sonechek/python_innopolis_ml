{
 "cells": [
  {
   "cell_type": "markdown",
   "metadata": {
    "id": "JUpV4JJRVjH4"
   },
   "source": [
    "# Домашнее задание № 1"
   ]
  },
  {
   "cell_type": "markdown",
   "metadata": {
    "id": "kbJt8TyMujxo"
   },
   "source": [
    "### Задание 1: Кодировщик Цезаря\n",
    "\n",
    "\n",
    "Описание:\n",
    "\n",
    "Напишите функцию, которая реализует кодирование строки шифром Цезаря.\n",
    "\n",
    "In:\n",
    "* строка\n",
    "* размер сдвига\n",
    "\n",
    "Out:\n",
    "* зашифрованная строка\n",
    "\n",
    "Ограничения: строка содержит только буквы русского алфавита"
   ]
  },
  {
   "cell_type": "code",
   "execution_count": 9,
   "metadata": {
    "id": "oZgX9GMrugmO"
   },
   "outputs": [],
   "source": [
    "letters=['А','Б','В','Г','Д','Е','Ж','З','И','Й',\n",
    "         'К','Л','М','Н','О','П','Р','С','Т','У',\n",
    "         'Ф','Х','Ц','Ч','Ш','Щ','Ъ','Ы','Ь','Э',\n",
    "         'Ю', 'Я']"
   ]
  },
  {
   "cell_type": "code",
   "execution_count": null,
   "metadata": {
    "id": "jfpNgDEGVjH7"
   },
   "outputs": [
    {
     "name": "stdout",
     "output_type": "stream",
     "text": [
      "Вфлгб\n"
     ]
    }
   ],
   "source": [
    "# Ваш код\n",
    "text = str(input())\n",
    "d = int(input())\n",
    "\n",
    "for i in range(len(text)):\n",
    "    cypher_text += chr((ord(text[i])) + d)\n",
    "\n",
    "print(cypher_text)"
   ]
  },
  {
   "cell_type": "markdown",
   "metadata": {
    "id": "7OjM3A7Ou7HR"
   },
   "source": [
    "### Задание 2: Дешифровщик Цезаря\n",
    "\n",
    "Описание:\n",
    "\n",
    "Напишите функцию, которая реализует декодирование строки, зашифрованной шифром Цезаря.\n",
    "\n",
    "In:\n",
    "* зашифрованная строка\n",
    "\n",
    "Out:\n",
    "* список кортежей (сдвиг, результат дешифровки)\n",
    "\n",
    "Ограничения: метод дешифрования - brute force =)"
   ]
  },
  {
   "cell_type": "code",
   "execution_count": null,
   "metadata": {
    "id": "c9LrLZKBusJ1"
   },
   "outputs": [],
   "source": [
    "# Ваш код\n"
   ]
  }
 ],
 "metadata": {
  "colab": {
   "provenance": []
  },
  "kernelspec": {
   "display_name": "Python 3",
   "language": "python",
   "name": "python3"
  },
  "language_info": {
   "codemirror_mode": {
    "name": "ipython",
    "version": 3
   },
   "file_extension": ".py",
   "mimetype": "text/x-python",
   "name": "python",
   "nbconvert_exporter": "python",
   "pygments_lexer": "ipython3",
   "version": "3.13.2"
  }
 },
 "nbformat": 4,
 "nbformat_minor": 0
}
